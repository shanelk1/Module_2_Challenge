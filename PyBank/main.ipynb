{
 "cells": [
  {
   "cell_type": "code",
   "execution_count": 1,
   "id": "ba305d70-68c7-408c-b3bf-be0b57d7d0fb",
   "metadata": {},
   "outputs": [],
   "source": [
    "from pathlib import Path\n",
    "import csv\n"
   ]
  },
  {
   "cell_type": "code",
   "execution_count": 2,
   "id": "a76eb5bc-758f-455e-a750-4848cdd500b8",
   "metadata": {},
   "outputs": [],
   "source": [
    "budget_csv = Path(\"Resources/budget_data.csv\")"
   ]
  },
  {
   "cell_type": "code",
   "execution_count": 3,
   "id": "3679a139-62e8-4b09-a538-4fdaf31999af",
   "metadata": {},
   "outputs": [],
   "source": [
    "# Initilize list of records and variables\n",
    "monthly_difference = 0\n",
    "month_count = 0\n",
    "profit_loss = 0\n",
    "total = 0\n",
    "monthly_pnl_data = []\n",
    "net_change = 0\n",
    "\n",
    "# Initialize greatest profit key-value pair\n",
    "greatest_increase = [\"\",0]\n",
    "\n",
    "# Initialize greatest loss key_value pair\n",
    "greatest_loss = [\"\",0]"
   ]
  },
  {
   "cell_type": "code",
   "execution_count": 4,
   "id": "42f18af9-9045-49a3-8f48-05b8602d56db",
   "metadata": {},
   "outputs": [],
   "source": [
    "\n",
    "# open csv file\n",
    "with open(budget_csv, 'r') as csvfile:\n",
    "    \n",
    "# Pass in csv file to the csv.reader() function and return csvreader\n",
    "    csv_reader = csv.reader(csvfile, delimiter = ',')\n",
    "    \n",
    "    # Reading in the header row\n",
    "    \n",
    "    csv_header = next(csv_reader)\n",
    "    \n",
    "    first_row = next(csv_reader)\n",
    "    month_count = month_count + 1\n",
    "    profit_loss = profit_loss + int(first_row[1])\n",
    "    previous_net = int(first_row[1])\n",
    "                        \n",
    "# Read each row of data\n",
    "    for row in csv_reader:\n",
    "                         \n",
    "            \n",
    "                        \n",
    "# count the number of months and total pnl\n",
    "        profit_loss = profit_loss + int(row[1])\n",
    "        month_count = month_count + 1\n",
    "        \n",
    "        net_change = int(row[1]) - previous_net\n",
    "        previous_net = int(row[1])                \n",
    "        monthly_pnl_data.append(net_change)\n",
    "      \n",
    "        if net_change > greatest_increase[1]:\n",
    "           greatest_increase[1] = net_change\n",
    "           greatest_increase[0] = row[0]\n",
    "        if net_change < greatest_loss[1]:\n",
    "           greatest_loss[1] = net_change\n",
    "           greatest_loss[0] = row[0]\n",
    "                        \n",
    "\n",
    "                    "
   ]
  },
  {
   "cell_type": "code",
   "execution_count": 5,
   "id": "124f7e5b-c78f-43d0-8568-3841766d4b87",
   "metadata": {},
   "outputs": [
    {
     "name": "stdout",
     "output_type": "stream",
     "text": [
      "Total Months: 86\n",
      "Total: $38382578\n",
      "Average Change: $-2315.12\n",
      "The Greatest Increase in Profits: Feb-2012 ($1926159)\n",
      "The Greatest Decrease in Profits: Sep-2013 ($-2196167)\n"
     ]
    }
   ],
   "source": [
    "\n",
    "\n",
    "                        \n",
    "# print(total)\n",
    "average_difference = round(sum(monthly_pnl_data) / len(monthly_pnl_data) , 2)\n",
    "                        \n",
    "print(f\"Total Months: {month_count}\")\n",
    "print(f\"Total: ${profit_loss}\")\n",
    "print(f\"Average Change: ${average_difference}\")\n",
    "print(f\"The Greatest Increase in Profits: {greatest_increase[0]} (${greatest_increase[1]})\")\n",
    "print(f\"The Greatest Decrease in Profits: {greatest_loss[0]} (${greatest_loss[1]})\")\n",
    "                        \n",
    "                        \n",
    "# output files\n",
    "                        \n",
    "output_file = Path(\"Financial_Analysis_Summary.txt\")\n",
    "                        \n",
    "with open(output_file, \"w\") as file:\n",
    "                        \n",
    "# Write methods to print Financial_Analysis\n",
    "                        \n",
    "    file.write(f\"Financial Analysis\\n\")\n",
    "    file.write(f\"---------------------------\\n\")\n",
    "    file.write(f\"Total Months: {month_count}\\n\")\n",
    "    file.write(f\"Total: ${profit_loss}\\n\")\n",
    "    file.write(f\"Average Change: ${average_difference}\\n\")\n",
    "    file.write(f\"Greatest Increase in Profits: {greatest_increase[0]} (${greatest_increase[1]})\\n\")\n",
    "    file.write(f\"The Greatest Decrease in Profits: {greatest_loss[0]} (${greatest_loss[1]})\\n\")"
   ]
  }
 ],
 "metadata": {
  "kernelspec": {
   "display_name": "Python 3 (ipykernel)",
   "language": "python",
   "name": "python3"
  },
  "language_info": {
   "codemirror_mode": {
    "name": "ipython",
    "version": 3
   },
   "file_extension": ".py",
   "mimetype": "text/x-python",
   "name": "python",
   "nbconvert_exporter": "python",
   "pygments_lexer": "ipython3",
   "version": "3.7.11"
  }
 },
 "nbformat": 4,
 "nbformat_minor": 5
}
