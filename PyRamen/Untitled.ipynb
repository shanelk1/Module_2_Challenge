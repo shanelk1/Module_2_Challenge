{
 "cells": [
  {
   "cell_type": "code",
   "execution_count": null,
   "id": "cb22bf27-0ba9-4040-bf66-e0e2abddfe63",
   "metadata": {},
   "outputs": [],
   "source": [
    "from pathlib import Path\n",
    "import csv"
   ]
  },
  {
   "cell_type": "code",
   "execution_count": null,
   "id": "06c36bb6-3494-4bb8-a39b-b7e70455d7b1",
   "metadata": {},
   "outputs": [],
   "source": [
    "budget_csv = Path(\"Resources/budget_data.csv\")"
   ]
  },
  {
   "cell_type": "code",
   "execution_count": null,
   "id": "5fa21da6-a0e8-4e77-8fda-9283bc0f7b73",
   "metadata": {},
   "outputs": [],
   "source": [
    "# Initialize list of records and variables\n",
    "month_count = 0\n",
    "total_pl = 0\n",
    "average_change_pl = 0\n",
    "greatest_increase_pl_data = 0\n",
    "greatest_decrease_pl_data = 0\n",
    "net_change = 0\n"
   ]
  },
  {
   "cell_type": "code",
   "execution_count": null,
   "id": "a398c0e6-8bc7-4d07-920d-a4ceadcb75dd",
   "metadata": {},
   "outputs": [],
   "source": [
    "# Initialize greatest profit key-value pair\n",
    "greatest_increase = {\"\",0}"
   ]
  },
  {
   "cell_type": "code",
   "execution_count": null,
   "id": "89cebc7c-dc40-4550-984d-5819a2dbfc62",
   "metadata": {},
   "outputs": [],
   "source": [
    "# Initialize greatest loss key_value pair\n",
    "greatest_loss = {\"\",0}"
   ]
  },
  {
   "cell_type": "code",
   "execution_count": null,
   "id": "49bd3f9b-5f29-4496-a54e-a56830dce644",
   "metadata": {},
   "outputs": [],
   "source": [
    "# open csv file\n",
    "with open(budget_csv, 'r') as csvfile:\n",
    "    \n",
    "# Pass in csv file to the csv.reader() function and return csvreader\n",
    "    csv_reader = csv.reader(csvfile, delimiter = ',')    "
   ]
  },
  {
   "cell_type": "code",
   "execution_count": null,
   "id": "8c12bd29-1a5d-4417-b2bd-cbca891cda9f",
   "metadata": {},
   "outputs": [],
   "source": [
    "    # Reading in the header row\n",
    "\n",
    "     csv_header = next(csv_reader)\n",
    "\n",
    "     first_row = next(csv_reader)\n",
    "     month_count = month_count + 1\n",
    "     net_change = net_change + int(first_row[1])\n",
    "     previous_net = int(first_row[1])\n"
   ]
  },
  {
   "cell_type": "code",
   "execution_count": null,
   "id": "b18386d6-9ed7-4db4-8e3b-cd56e285c712",
   "metadata": {},
   "outputs": [],
   "source": [
    "# Read each row of data\n",
    "    for row in csv_reader:"
   ]
  },
  {
   "cell_type": "code",
   "execution_count": null,
   "id": "a0ed6d35-2ca4-4371-b191-4ae4c4da8284",
   "metadata": {},
   "outputs": [],
   "source": [
    "# count the number of months and total pnl\n",
    "\n"
   ]
  },
  {
   "cell_type": "code",
   "execution_count": null,
   "id": "7f53add1-8e67-437b-abc3-fb2d50802775",
   "metadata": {},
   "outputs": [],
   "source": [
    "# print total\n",
    "\n",
    "print(f\"Financial Analysis\")\n",
    "print(f\"-------------------------\")\n",
    "print(f\"Total Months: {month_count}\")\n",
    "print(f\"Total: ${total_pl}\")\n",
    "print(f\"Average Change: ${average_change_pl}\")\n",
    "print(f\"The Greatest Increase in Profits: {greatest_increase_pl_date}\")\n",
    "print(f\"The Greatest Decrease in Profits: {greatest_decrease_pl_date}\")     \n",
    "     "
   ]
  },
  {
   "cell_type": "code",
   "execution_count": null,
   "id": "a8e30864-e26a-4418-8b25-1da28b579e33",
   "metadata": {},
   "outputs": [],
   "source": [
    "# output files\n",
    "\n",
    "output_file = Path(\"Financial_Analysis_Summary.txt\")\n",
    "\n",
    "with open(output_file,\"w\") as file"
   ]
  },
  {
   "cell_type": "code",
   "execution_count": null,
   "id": "a983068a-939f-418a-945e-cdeab2653dcc",
   "metadata": {},
   "outputs": [],
   "source": [
    "# Write methods to print Financial_Analysis\n",
    "\n",
    "    file.write(f\"Financial Analysis\\n\")\n",
    "    file.write(f\"---------------------------\\n\")\n",
    "    file.write(f\"Total Months: {month_count}\\n\")\n",
    "    file.write(f\"Total: ${total_pl}\\n\")\n",
    "    file.write(f\"Average Change: ${average_change_pl}\\n\")\n",
    "    file.write(f\"Greatest Increase in Profits:{greatest_increase_pl_date}\")\\n\")\n",
    "    file.write(f\"The Greatest Decrease in Profits:{greatest_decrease_pl_date}\\n\")\n",
    "        "
   ]
  }
 ],
 "metadata": {
  "kernelspec": {
   "display_name": "Python 3 (ipykernel)",
   "language": "python",
   "name": "python3"
  },
  "language_info": {
   "codemirror_mode": {
    "name": "ipython",
    "version": 3
   },
   "file_extension": ".py",
   "mimetype": "text/x-python",
   "name": "python",
   "nbconvert_exporter": "python",
   "pygments_lexer": "ipython3",
   "version": "3.7.11"
  }
 },
 "nbformat": 4,
 "nbformat_minor": 5
}
