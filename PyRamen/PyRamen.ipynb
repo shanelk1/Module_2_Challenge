{
 "cells": [
  {
   "cell_type": "code",
   "execution_count": 1,
   "id": "286c7662-7d18-47b7-b675-5a3aca4316c8",
   "metadata": {},
   "outputs": [],
   "source": [
    "# Import Libraries\n",
    "import csv\n",
    "from pathlib import Path"
   ]
  },
  {
   "cell_type": "code",
   "execution_count": 2,
   "id": "2bfd2bfa-3775-4510-bebe-8a3d50ba00f4",
   "metadata": {},
   "outputs": [],
   "source": [
    "# Set file paths for menu_data.csv and sales_data.csv\n",
    "menu_filepath = Path('../Resources/menu_data.csv')\n",
    "sales_filepath = Path('../Resources/sales_data.csv')"
   ]
  },
  {
   "cell_type": "code",
   "execution_count": 3,
   "id": "3966ef30-1b2b-4be0-8f64-73ceeba221fd",
   "metadata": {},
   "outputs": [],
   "source": [
    "# Initialize list objects to hold our menu and sales data\n",
    "menu = []\n",
    "sales = []\n",
    "report = {}\n",
    "row_count = 0"
   ]
  },
  {
   "cell_type": "code",
   "execution_count": 4,
   "id": "b31e5a26-d99a-4115-a50e-b136d2ed878a",
   "metadata": {},
   "outputs": [],
   "source": [
    "# Read in the menu data into the menu list\n",
    "with open(menu_filepath, 'r') as csvfile:\n",
    "    csv_reader = csv.reader(csvfile, delimiter = ',')\n",
    "    header = next(csv_reader)\n",
    "   \n",
    "    for row in csv_reader:\n",
    "        menu.append(row)"
   ]
  },
  {
   "cell_type": "code",
   "execution_count": 5,
   "id": "77b81e6b-c0bf-42c1-919c-696f5059138e",
   "metadata": {},
   "outputs": [],
   "source": [
    "# Read in the sales data into the sales list\n",
    "with open(sales_filepath, 'r') as csvfile:\n",
    "    csv_reader = csv.reader(csvfile, delimiter = ',')\n",
    "    header = next(csv_reader)\n",
    "   \n",
    "    for row in csv_reader:\n",
    "        sales.append(row)"
   ]
  },
  {
   "cell_type": "code",
   "execution_count": 6,
   "id": "4cecbbc0-e645-4c79-bbe6-cd2f42b5be11",
   "metadata": {},
   "outputs": [],
   "source": [
    "# Create a metric dict for each new menu item\n",
    "for sales_row in sales:\n",
    "    sales_item = sales_row[4]\n",
    "    quantity = sales_row[3]\n",
    "    \n",
    "    if sales_item not in report:\n",
    "        report[sales_item] = {\"01-count\": 0, \"02-revenue\": 0, \"03-cogs\": 0, \"04-profit\": 0}\n",
    "    else:\n",
    "        continue\n",
    "        \n"
   ]
  },
  {
   "cell_type": "code",
   "execution_count": 7,
   "id": "045fe6ae-dc5c-4bb8-95cd-143690a94b90",
   "metadata": {},
   "outputs": [],
   "source": [
    "# extra quantities form sales report\n",
    "for sales_row in sales:\n",
    "    \n",
    "    sales_item = sales_row[4]\n",
    "    quantity = sales_row[3]\n",
    "    \n",
    "    if sales_item in report:\n",
    "        report[sales_item][\"01-count\"] += int(quantity)\n",
    "        \n",
    "        \n",
    "        "
   ]
  },
  {
   "cell_type": "code",
   "execution_count": 8,
   "id": "4e0a3f81-9354-41d6-bd5f-6739f41223fe",
   "metadata": {},
   "outputs": [],
   "source": [
    "# price and cost from menu and calculate revenue and cogs\n",
    "for sales_row in sales:\n",
    "    \n",
    "    sales_item = sales_row[4]\n",
    "    quantity = sales_row[3]\n",
    "    \n",
    "    for menu_row in menu:\n",
    "        menu_item = menu_row[0]\n",
    "        menu_price = menu_row[3]\n",
    "        menu_cost = menu_row[4]\n",
    "        \n",
    "        if sales_item == menu_item:\n",
    "            report[menu_item][\"02-revenue\"] += (int(menu_price) * int(quantity))\n",
    "            report[menu_item][\"03-cogs\"] += (int(menu_cost) * int(quantity))\n",
    "        elif sales_item != menu_item:\n",
    "            continue\n",
    "                              "
   ]
  },
  {
   "cell_type": "code",
   "execution_count": 9,
   "id": "2e49afb8-718b-497c-b428-417b9be8e573",
   "metadata": {},
   "outputs": [],
   "source": [
    "# calculate profit using revenue and cogs\n",
    "for item,valuedict in report.items():\n",
    "    \n",
    "    for key in valuedict:\n",
    "        \n",
    "        cogs = report[item][\"03-cogs\"]\n",
    "        revenue = report[item][\"02-revenue\"]\n",
    "        \n",
    "        if key == \"04-profit\":\n",
    "            report[item][key] = revenue - cogs\n",
    "        else:\n",
    "            continue"
   ]
  },
  {
   "cell_type": "code",
   "execution_count": 11,
   "id": "a0db81b4-288b-4043-9701-b0d292b5c4fe",
   "metadata": {},
   "outputs": [],
   "source": [
    "# output file with metrics\n",
    "output_path = Path(\"PyRamen.txt\")\n",
    "\n",
    "with open(output_path, 'w') as file:\n",
    "    file.write(\"This is the financial report for PyRamen.\\n\")\n",
    "    for key in report:\n",
    "        file.write(f\"{key} {report[key]} \\n\")\n",
    "        "
   ]
  },
  {
   "cell_type": "code",
   "execution_count": null,
   "id": "85d1c71c-88d9-4805-9b1d-bafb81088601",
   "metadata": {},
   "outputs": [],
   "source": []
  }
 ],
 "metadata": {
  "kernelspec": {
   "display_name": "Python 3 (ipykernel)",
   "language": "python",
   "name": "python3"
  },
  "language_info": {
   "codemirror_mode": {
    "name": "ipython",
    "version": 3
   },
   "file_extension": ".py",
   "mimetype": "text/x-python",
   "name": "python",
   "nbconvert_exporter": "python",
   "pygments_lexer": "ipython3",
   "version": "3.7.11"
  }
 },
 "nbformat": 4,
 "nbformat_minor": 5
}
